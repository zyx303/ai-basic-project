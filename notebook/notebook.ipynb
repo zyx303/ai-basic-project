{
 "cells": [
  {
   "cell_type": "code",
   "execution_count": 2,
   "id": "891e681c",
   "metadata": {},
   "outputs": [],
   "source": [
    "import pandas as pd\n",
    "import os"
   ]
  },
  {
   "cell_type": "code",
   "execution_count": 3,
   "id": "0059c017",
   "metadata": {},
   "outputs": [],
   "source": [
    "train = pd.read_excel('../data/train.xlsx')\n",
    "test = pd.read_excel('../data/test.xlsx')"
   ]
  },
  {
   "cell_type": "code",
   "execution_count": 4,
   "id": "e4cd3e1b",
   "metadata": {},
   "outputs": [
    {
     "data": {
      "text/plain": [
       "((7200, 2), (633, 2))"
      ]
     },
     "execution_count": 4,
     "metadata": {},
     "output_type": "execute_result"
    }
   ],
   "source": [
    "train.shape, test.shape"
   ]
  },
  {
   "cell_type": "code",
   "execution_count": 5,
   "id": "b62ad570",
   "metadata": {},
   "outputs": [
    {
     "data": {
      "text/plain": [
       "<Axes: xlabel='label'>"
      ]
     },
     "execution_count": 5,
     "metadata": {},
     "output_type": "execute_result"
    },
    {
     "data": {
      "image/png": "[encoded data removed]",
      "text/plain": [
       "<Figure size 640x480 with 1 Axes>"
      ]
     },
     "metadata": {},
     "output_type": "display_data"
    }
   ],
   "source": [
    "# 查看label分布,显示数字\n",
    "train['label'].value_counts().plot(kind='bar')"
   ]
  },
  {
   "cell_type": "code",
   "execution_count": 6,
   "id": "12bb3091",
   "metadata": {},
   "outputs": [
    {
     "data": {
      "text/plain": [
       "<Axes: xlabel='label'>"
      ]
     },
     "execution_count": 6,
     "metadata": {},
     "output_type": "execute_result"
    },
    {
     "data": {
      "image/png": "[encoded data removed]",
      "text/plain": [
       "<Figure size 640x480 with 1 Axes>"
      ]
     },
     "metadata": {},
     "output_type": "display_data"
    }
   ],
   "source": [
    "test['label'].value_counts().plot(kind='bar')"
   ]
  },
  {
   "cell_type": "code",
   "execution_count": 4,
   "id": "912a8cf5",
   "metadata": {},
   "outputs": [
    {
     "data": {
      "text/html": [
       "<div>\n",
       "<style scoped>\n",
       "    .dataframe tbody tr th:only-of-type {\n",
       "        vertical-align: middle;\n",
       "    }\n",
       "\n",
       "    .dataframe tbody tr th {\n",
       "        vertical-align: top;\n",
       "    }\n",
       "\n",
       "    .dataframe thead th {\n",
       "        text-align: right;\n",
       "    }\n",
       "</style>\n",
       "<table border=\"1\" class=\"dataframe\">\n",
       "  <thead>\n",
       "    <tr style=\"text-align: right;\">\n",
       "      <th></th>\n",
       "      <th>text</th>\n",
       "      <th>label</th>\n",
       "    </tr>\n",
       "  </thead>\n",
       "  <tbody>\n",
       "    <tr>\n",
       "      <th>0</th>\n",
       "      <td>美媒称以黎就停火达成一致 黎真主党未表态</td>\n",
       "      <td>neutral</td>\n",
       "    </tr>\n",
       "    <tr>\n",
       "      <th>1</th>\n",
       "      <td>乌媒称乌议员提交议案草案 拟降低服兵役年龄</td>\n",
       "      <td>neutral</td>\n",
       "    </tr>\n",
       "    <tr>\n",
       "      <th>2</th>\n",
       "      <td>日本新型固体燃料火箭试验再次发生异常</td>\n",
       "      <td>negative</td>\n",
       "    </tr>\n",
       "    <tr>\n",
       "      <th>3</th>\n",
       "      <td>美国国债突破36万亿美元 债务螺旋带来严峻考验！</td>\n",
       "      <td>negative</td>\n",
       "    </tr>\n",
       "    <tr>\n",
       "      <th>4</th>\n",
       "      <td>印尼北苏门答腊卡罗县洪灾已造成10人死亡</td>\n",
       "      <td>negative</td>\n",
       "    </tr>\n",
       "  </tbody>\n",
       "</table>\n",
       "</div>"
      ],
      "text/plain": [
       "                       text     label\n",
       "0      美媒称以黎就停火达成一致 黎真主党未表态   neutral\n",
       "1     乌媒称乌议员提交议案草案 拟降低服兵役年龄   neutral\n",
       "2        日本新型固体燃料火箭试验再次发生异常  negative\n",
       "3  美国国债突破36万亿美元 债务螺旋带来严峻考验！  negative\n",
       "4      印尼北苏门答腊卡罗县洪灾已造成10人死亡  negative"
      ]
     },
     "execution_count": 4,
     "metadata": {},
     "output_type": "execute_result"
    }
   ],
   "source": [
    "train.head()"
   ]
  },
  {
   "cell_type": "code",
   "execution_count": 5,
   "id": "01cdbf7b",
   "metadata": {},
   "outputs": [
    {
     "name": "stdout",
     "output_type": "stream",
     "text": [
      "转换前的标签值: ['neutral' 'negative' 'positive']\n",
      "转换后的标签值: [1 0 2]\n",
      "标签分布:\n",
      "label\n",
      "2    4011\n",
      "0    1964\n",
      "1    1225\n",
      "Name: count, dtype: int64\n"
     ]
    }
   ],
   "source": [
    "# 查看当前的唯一标签值\n",
    "print(\"转换前的标签值:\", train['label'].unique())\n",
    "\n",
    "# 创建映射字典\n",
    "unique_labels = sorted(train['label'].unique())\n",
    "label_map = {old_label: new_label for new_label, old_label in enumerate(unique_labels)}\n",
    "\n",
    "# 应用映射\n",
    "train['label'] = train['label'].map(label_map)\n",
    "test['label'] = test['label'].map(label_map)\n",
    "\n",
    "# 查看转换后的标签分布\n",
    "print(\"转换后的标签值:\", train['label'].unique())\n",
    "print(\"标签分布:\")\n",
    "print(train['label'].value_counts())"
   ]
  },
  {
   "cell_type": "code",
   "execution_count": 9,
   "id": "8f58aadb",
   "metadata": {},
   "outputs": [],
   "source": [
    "train.to_csv('../data/train.csv', index=False)\n",
    "test.to_csv('../data/test.csv', index=False)"
   ]
  },
  {
   "cell_type": "code",
   "execution_count": 10,
   "id": "60cf6436",
   "metadata": {},
   "outputs": [],
   "source": [
    "train_csv = pd.read_csv('../data/train.csv')\n",
    "test_csv = pd.read_csv('../data/test.csv')"
   ]
  },
  {
   "cell_type": "code",
   "execution_count": 11,
   "id": "adb10483",
   "metadata": {},
   "outputs": [
    {
     "data": {
      "text/html": [
       "<div>\n",
       "<style scoped>\n",
       "    .dataframe tbody tr th:only-of-type {\n",
       "        vertical-align: middle;\n",
       "    }\n",
       "\n",
       "    .dataframe tbody tr th {\n",
       "        vertical-align: top;\n",
       "    }\n",
       "\n",
       "    .dataframe thead th {\n",
       "        text-align: right;\n",
       "    }\n",
       "</style>\n",
       "<table border=\"1\" class=\"dataframe\">\n",
       "  <thead>\n",
       "    <tr style=\"text-align: right;\">\n",
       "      <th></th>\n",
       "      <th>text</th>\n",
       "      <th>label</th>\n",
       "    </tr>\n",
       "  </thead>\n",
       "  <tbody>\n",
       "    <tr>\n",
       "      <th>0</th>\n",
       "      <td>美媒称以黎就停火达成一致 黎真主党未表态</td>\n",
       "      <td>1</td>\n",
       "    </tr>\n",
       "    <tr>\n",
       "      <th>1</th>\n",
       "      <td>乌媒称乌议员提交议案草案 拟降低服兵役年龄</td>\n",
       "      <td>1</td>\n",
       "    </tr>\n",
       "    <tr>\n",
       "      <th>2</th>\n",
       "      <td>日本新型固体燃料火箭试验再次发生异常</td>\n",
       "      <td>0</td>\n",
       "    </tr>\n",
       "    <tr>\n",
       "      <th>3</th>\n",
       "      <td>美国国债突破36万亿美元 债务螺旋带来严峻考验！</td>\n",
       "      <td>0</td>\n",
       "    </tr>\n",
       "    <tr>\n",
       "      <th>4</th>\n",
       "      <td>印尼北苏门答腊卡罗县洪灾已造成10人死亡</td>\n",
       "      <td>0</td>\n",
       "    </tr>\n",
       "  </tbody>\n",
       "</table>\n",
       "</div>"
      ],
      "text/plain": [
       "                       text  label\n",
       "0      美媒称以黎就停火达成一致 黎真主党未表态      1\n",
       "1     乌媒称乌议员提交议案草案 拟降低服兵役年龄      1\n",
       "2        日本新型固体燃料火箭试验再次发生异常      0\n",
       "3  美国国债突破36万亿美元 债务螺旋带来严峻考验！      0\n",
       "4      印尼北苏门答腊卡罗县洪灾已造成10人死亡      0"
      ]
     },
     "execution_count": 11,
     "metadata": {},
     "output_type": "execute_result"
    }
   ],
   "source": [
    "train_csv.head()"
   ]
  },
  {
   "cell_type": "code",
   "execution_count": 12,
   "id": "64d37da9",
   "metadata": {},
   "outputs": [
    {
     "data": {
      "text/plain": [
       "(7200, 2)"
      ]
     },
     "execution_count": 12,
     "metadata": {},
     "output_type": "execute_result"
    }
   ],
   "source": [
    "train_csv.shape"
   ]
  },
  {
   "cell_type": "code",
   "execution_count": 13,
   "id": "dd9e719c",
   "metadata": {},
   "outputs": [
    {
     "data": {
      "text/html": [
       "<div>\n",
       "<style scoped>\n",
       "    .dataframe tbody tr th:only-of-type {\n",
       "        vertical-align: middle;\n",
       "    }\n",
       "\n",
       "    .dataframe tbody tr th {\n",
       "        vertical-align: top;\n",
       "    }\n",
       "\n",
       "    .dataframe thead th {\n",
       "        text-align: right;\n",
       "    }\n",
       "</style>\n",
       "<table border=\"1\" class=\"dataframe\">\n",
       "  <thead>\n",
       "    <tr style=\"text-align: right;\">\n",
       "      <th></th>\n",
       "      <th>text</th>\n",
       "      <th>label</th>\n",
       "    </tr>\n",
       "  </thead>\n",
       "  <tbody>\n",
       "    <tr>\n",
       "      <th>0</th>\n",
       "      <td>【2022年卡塔尔世界杯】H组：韩国不敌加纳</td>\n",
       "      <td>0</td>\n",
       "    </tr>\n",
       "    <tr>\n",
       "      <th>1</th>\n",
       "      <td>【2022年卡塔尔世界杯——今日看点】伊朗为首次小组出线冲刺 英格兰、威尔士上演“英伦德比”</td>\n",
       "      <td>2</td>\n",
       "    </tr>\n",
       "    <tr>\n",
       "      <th>2</th>\n",
       "      <td>球队生死边缘  梅西力挽狂澜</td>\n",
       "      <td>2</td>\n",
       "    </tr>\n",
       "    <tr>\n",
       "      <th>3</th>\n",
       "      <td>输球后日本球员全体鞠躬致歉</td>\n",
       "      <td>0</td>\n",
       "    </tr>\n",
       "    <tr>\n",
       "      <th>4</th>\n",
       "      <td>【2022年卡塔尔世界杯——今日看点】巴西冲连胜晋级 C罗迎“复仇”时刻</td>\n",
       "      <td>2</td>\n",
       "    </tr>\n",
       "  </tbody>\n",
       "</table>\n",
       "</div>"
      ],
      "text/plain": [
       "                                             text  label\n",
       "0                          【2022年卡塔尔世界杯】H组：韩国不敌加纳      0\n",
       "1  【2022年卡塔尔世界杯——今日看点】伊朗为首次小组出线冲刺 英格兰、威尔士上演“英伦德比”      2\n",
       "2                                  球队生死边缘  梅西力挽狂澜      2\n",
       "3                                   输球后日本球员全体鞠躬致歉      0\n",
       "4            【2022年卡塔尔世界杯——今日看点】巴西冲连胜晋级 C罗迎“复仇”时刻      2"
      ]
     },
     "execution_count": 13,
     "metadata": {},
     "output_type": "execute_result"
    }
   ],
   "source": [
    "test_csv.head()"
   ]
  },
  {
   "cell_type": "code",
   "execution_count": null,
   "id": "49338962",
   "metadata": {},
   "outputs": [],
   "source": []
  }
 ],
 "metadata": {
  "kernelspec": {
   "display_name": "pytorch",
   "language": "python",
   "name": "python3"
  },
  "language_info": {
   "codemirror_mode": {
    "name": "ipython",
    "version": 3
   },
   "file_extension": ".py",
   "mimetype": "text/x-python",
   "name": "python",
   "nbconvert_exporter": "python",
   "pygments_lexer": "ipython3",
   "version": "3.12.9"
  }
 },
 "nbformat": 4,
 "nbformat_minor": 5
}
